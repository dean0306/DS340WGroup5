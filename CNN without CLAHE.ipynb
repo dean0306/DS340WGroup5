{
  "nbformat": 4,
  "nbformat_minor": 0,
  "metadata": {
    "colab": {
      "provenance": []
    },
    "kernelspec": {
      "name": "python3",
      "display_name": "Python 3"
    },
    "language_info": {
      "name": "python"
    }
  },
  "cells": [
    {
      "cell_type": "code",
      "execution_count": 37,
      "metadata": {
        "id": "oD44RxbkXeiG"
      },
      "outputs": [],
      "source": [
        "import numpy as np\n",
        "import cv2\n",
        "from tensorflow.keras.layers import Input, Conv2D, BatchNormalization, Dropout, Flatten, Dense, MaxPool2D\n",
        "from tensorflow.keras.models import Model, Sequential\n",
        "from tensorflow.keras.initializers import glorot_uniform\n",
        "from tensorflow.keras.optimizers import Adam, SGD\n",
        "import matplotlib.pyplot as plt\n",
        "from sklearn.metrics import classification_report\n",
        "from tensorflow.keras.preprocessing.image import ImageDataGenerator\n",
        "from sklearn.model_selection import train_test_split\n",
        "from tensorflow.keras.utils import to_categorical\n",
        "from sklearn.preprocessing import LabelEncoder\n",
        "from sklearn.metrics import classification_report, confusion_matrix\n",
        "import seaborn as sns\n",
        "from tensorflow.keras.regularizers import l2\n",
        "import tensorflow as tf\n",
        "import pandas as pd\n",
        "from imutils.face_utils import FaceAligner\n",
        "from imutils.face_utils import rect_to_bb\n",
        "import imutils\n",
        "import dlib"
      ]
    },
    {
      "cell_type": "code",
      "source": [
        "!pip install --upgrade imutils\n",
        "!pip install --upgrade dlib\n",
        "!pip install --upgrade cv2"
      ],
      "metadata": {
        "colab": {
          "base_uri": "https://localhost:8080/"
        },
        "id": "tnPARs8vSA7k",
        "outputId": "526e3783-874d-41f6-d85f-d865d76932e7"
      },
      "execution_count": 38,
      "outputs": [
        {
          "output_type": "stream",
          "name": "stdout",
          "text": [
            "Looking in indexes: https://pypi.org/simple, https://us-python.pkg.dev/colab-wheels/public/simple/\n",
            "Requirement already satisfied: imutils in /usr/local/lib/python3.9/dist-packages (0.5.4)\n",
            "Looking in indexes: https://pypi.org/simple, https://us-python.pkg.dev/colab-wheels/public/simple/\n",
            "Requirement already satisfied: dlib in /usr/local/lib/python3.9/dist-packages (19.24.0)\n",
            "Looking in indexes: https://pypi.org/simple, https://us-python.pkg.dev/colab-wheels/public/simple/\n",
            "\u001b[31mERROR: Could not find a version that satisfies the requirement cv2 (from versions: none)\u001b[0m\u001b[31m\n",
            "\u001b[0m\u001b[31mERROR: No matching distribution found for cv2\u001b[0m\u001b[31m\n",
            "\u001b[0m"
          ]
        }
      ]
    },
    {
      "cell_type": "code",
      "source": [
        "!wget https://cainvas-static.s3.amazonaws.com/media/user_data/cainvas-admin/driver_drowsiness_detection_modified.zip\n",
        "!unzip -qo driver_drowsiness_detection_modified.zip"
      ],
      "metadata": {
        "colab": {
          "base_uri": "https://localhost:8080/"
        },
        "id": "5UFm9CfyXg-M",
        "outputId": "8e7e37ae-6e0d-4e3c-c33f-50145336692c"
      },
      "execution_count": 39,
      "outputs": [
        {
          "output_type": "stream",
          "name": "stdout",
          "text": [
            "--2023-03-10 21:02:44--  https://cainvas-static.s3.amazonaws.com/media/user_data/cainvas-admin/driver_drowsiness_detection_modified.zip\n",
            "Resolving cainvas-static.s3.amazonaws.com (cainvas-static.s3.amazonaws.com)... 52.219.66.4\n",
            "Connecting to cainvas-static.s3.amazonaws.com (cainvas-static.s3.amazonaws.com)|52.219.66.4|:443... connected.\n",
            "HTTP request sent, awaiting response... 200 OK\n",
            "Length: 127436131 (122M) [application/x-zip-compressed]\n",
            "Saving to: ‘driver_drowsiness_detection_modified.zip.2’\n",
            "\n",
            "driver_drowsiness_d 100%[===================>] 121.53M  12.9MB/s    in 11s     \n",
            "\n",
            "2023-03-10 21:02:56 (11.0 MB/s) - ‘driver_drowsiness_detection_modified.zip.2’ saved [127436131/127436131]\n",
            "\n"
          ]
        }
      ]
    },
    {
      "cell_type": "code",
      "source": [
        "data = np.load('driver_drowsiness_detection/dataset_compressed.npz', allow_pickle=True)\n",
        "X = data['arr_0']\n",
        "Y = data['arr_1']\n",
        "\n",
        "X = list(X)\n",
        "Y = list(Y)\n",
        "print(len(X))\n",
        "print(len(Y))"
      ],
      "metadata": {
        "colab": {
          "base_uri": "https://localhost:8080/"
        },
        "id": "AAxMktpSXjx7",
        "outputId": "7f1aa138-e1e4-4b3e-de3d-96ade46babd6"
      },
      "execution_count": 40,
      "outputs": [
        {
          "output_type": "stream",
          "name": "stdout",
          "text": [
            "1452\n",
            "1452\n"
          ]
        }
      ]
    },
    {
      "cell_type": "code",
      "source": [
        "for i in range(len(X)):\n",
        "    img = X[i]\n",
        "    img = cv2.resize(img, (32, 32))\n",
        "    X[i] = img\n",
        "    \n",
        "print(len(X))\n",
        "print(X[0].shape)"
      ],
      "metadata": {
        "colab": {
          "base_uri": "https://localhost:8080/"
        },
        "id": "ieqBzGPcXke4",
        "outputId": "6a9f239c-95e8-4ca3-d5b3-3b898b481a89"
      },
      "execution_count": 41,
      "outputs": [
        {
          "output_type": "stream",
          "name": "stdout",
          "text": [
            "1452\n",
            "(32, 32, 3)\n"
          ]
        }
      ]
    },
    {
      "cell_type": "code",
      "source": [
        "label_encoder = LabelEncoder()\n",
        "Y = label_encoder.fit_transform(Y)\n",
        "print(Y.shape)\n",
        "print(Y[0])\n",
        "print(set(Y))"
      ],
      "metadata": {
        "colab": {
          "base_uri": "https://localhost:8080/"
        },
        "id": "PS2YFbfnXlsb",
        "outputId": "3ccddba0-147f-4a1c-8ac9-07373018fcd0"
      },
      "execution_count": 42,
      "outputs": [
        {
          "output_type": "stream",
          "name": "stdout",
          "text": [
            "(1452,)\n",
            "0\n",
            "{0, 1}\n"
          ]
        }
      ]
    },
    {
      "cell_type": "code",
      "source": [
        "X = np.array(X)\n",
        "Y = np.array(Y)\n",
        "print(X.shape)\n",
        "print(Y.shape)"
      ],
      "metadata": {
        "colab": {
          "base_uri": "https://localhost:8080/"
        },
        "id": "TXGWAzmyXl6x",
        "outputId": "15bb913b-4b8f-4883-af59-72c452d6cfd1"
      },
      "execution_count": 43,
      "outputs": [
        {
          "output_type": "stream",
          "name": "stdout",
          "text": [
            "(1452, 32, 32, 3)\n",
            "(1452,)\n"
          ]
        }
      ]
    },
    {
      "cell_type": "code",
      "source": [
        "X_train, X_test, Y_train, Y_test = train_test_split(X, Y, test_size=0.2)"
      ],
      "metadata": {
        "id": "5hfeAyRTXmZz"
      },
      "execution_count": 44,
      "outputs": []
    },
    {
      "cell_type": "code",
      "source": [
        "print(X_train.shape)\n",
        "print(Y_train.shape)\n",
        "print(X_test.shape)\n",
        "print(Y_test.shape)\n",
        "\n",
        "Y_train = to_categorical(Y_train)\n",
        "Y_test = to_categorical(Y_test)\n",
        "\n",
        "print(X_train.shape)\n",
        "print(Y_train.shape)\n",
        "print(X_test.shape)\n",
        "print(Y_test.shape)"
      ],
      "metadata": {
        "colab": {
          "base_uri": "https://localhost:8080/"
        },
        "id": "1O6sypViXmlM",
        "outputId": "4c43885b-c835-4e4b-877d-a3320664d11e"
      },
      "execution_count": 45,
      "outputs": [
        {
          "output_type": "stream",
          "name": "stdout",
          "text": [
            "(1161, 32, 32, 3)\n",
            "(1161,)\n",
            "(291, 32, 32, 3)\n",
            "(291,)\n",
            "(1161, 32, 32, 3)\n",
            "(1161, 2)\n",
            "(291, 32, 32, 3)\n",
            "(291, 2)\n"
          ]
        }
      ]
    },
    {
      "cell_type": "code",
      "source": [
        "figure1 = plt.figure(figsize=(5, 5))\n",
        "idx_closed = np.where(Y==0)\n",
        "img_closed = X[idx_closed[0][0]]\n",
        "plt.imshow(img_closed)\n",
        "plt.title('Image of Closed Eye representing Driver is sleeping')\n",
        "plt.axis('off')\n",
        "plt.show()\n",
        "\n",
        "figure2 = plt.figure(figsize=(5, 5))\n",
        "idx_open = np.where(Y==1)\n",
        "img_open = X[idx_open[0][0]]\n",
        "plt.imshow(img_open)\n",
        "plt.title('Image of Open Eye representing Driver is not sleeping')\n",
        "plt.axis('off')\n",
        "plt.show()"
      ],
      "metadata": {
        "colab": {
          "base_uri": "https://localhost:8080/",
          "height": 621
        },
        "id": "mZpONAviXmwe",
        "outputId": "deedad34-94d5-419c-b608-09824b80bf2b"
      },
      "execution_count": 46,
      "outputs": [
        {
          "output_type": "display_data",
          "data": {
            "text/plain": [
              "<Figure size 360x360 with 1 Axes>"
            ],
            "image/png": "[encoded data removed]"
          },
          "metadata": {
            "needs_background": "light"
          }
        },
        {
          "output_type": "display_data",
          "data": {
            "text/plain": [
              "<Figure size 360x360 with 1 Axes>"
            ],
            "image/png": "[encoded data removed]"
          },
          "metadata": {
            "needs_background": "light"
          }
        }
      ]
    },
    {
      "cell_type": "code",
      "source": [
        "unique_train, count = np.unique(Y_train, return_counts=True)\n",
        "plt.figure(figsize=(20, 10))\n",
        "sns.barplot(unique_train, count).set_title(\"Number of training images per category:\")\n",
        "plt.show()"
      ],
      "metadata": {
        "colab": {
          "base_uri": "https://localhost:8080/",
          "height": 664
        },
        "id": "HNmAggzJXnAT",
        "outputId": "590c329f-6cf8-4ac7-a6ae-b58a7000e1f8"
      },
      "execution_count": 47,
      "outputs": [
        {
          "output_type": "stream",
          "name": "stderr",
          "text": [
            "/usr/local/lib/python3.9/dist-packages/seaborn/_decorators.py:36: FutureWarning: Pass the following variables as keyword args: x, y. From version 0.12, the only valid positional argument will be `data`, and passing other arguments without an explicit keyword will result in an error or misinterpretation.\n",
            "  warnings.warn(\n"
          ]
        },
        {
          "output_type": "display_data",
          "data": {
            "text/plain": [
              "<Figure size 1440x720 with 1 Axes>"
            ],
            "image/png": "[encoded data removed]"
          },
          "metadata": {
            "needs_background": "light"
          }
        }
      ]
    },
    {
      "cell_type": "code",
      "source": [
        "unique_test, count_test = np.unique(Y_test, return_counts=True)\n",
        "plt.figure(figsize=(20, 10))\n",
        "sns.barplot(unique_test, count_test).set_title(\"Number of training images per category:\")\n",
        "plt.show()"
      ],
      "metadata": {
        "colab": {
          "base_uri": "https://localhost:8080/",
          "height": 664
        },
        "id": "0vB5EtyZXtTs",
        "outputId": "d0a98fc4-8030-49f8-8d05-b830aeb7dba2"
      },
      "execution_count": 48,
      "outputs": [
        {
          "output_type": "stream",
          "name": "stderr",
          "text": [
            "/usr/local/lib/python3.9/dist-packages/seaborn/_decorators.py:36: FutureWarning: Pass the following variables as keyword args: x, y. From version 0.12, the only valid positional argument will be `data`, and passing other arguments without an explicit keyword will result in an error or misinterpretation.\n",
            "  warnings.warn(\n"
          ]
        },
        {
          "output_type": "display_data",
          "data": {
            "text/plain": [
              "<Figure size 1440x720 with 1 Axes>"
            ],
            "image/png": "[encoded data removed]"
          },
          "metadata": {
            "needs_background": "light"
          }
        }
      ]
    },
    {
      "cell_type": "code",
      "source": [
        "def driver_drowsiness_detection_model(input_shape=(32, 32, 3)):\n",
        "    model = Sequential()\n",
        "    model.add(Input(shape=input_shape))\n",
        "    model.add(Conv2D(32, (3, 3), padding='same', strides=(1, 1), name='conv1', activation='relu', \n",
        "                     kernel_initializer=glorot_uniform(seed=0)))\n",
        "    model.add(BatchNormalization())\n",
        "    model.add(Conv2D(32, (3, 3), padding='same', strides=(1, 1), name='conv2', activation='relu', \n",
        "                     kernel_initializer=glorot_uniform(seed=0)))\n",
        "    model.add(BatchNormalization())\n",
        "    model.add(Dropout(0.2))\n",
        "    model.add(MaxPool2D((2, 2), strides=(2, 2)))\n",
        "    \n",
        "    model.add(Conv2D(64, (3, 3), padding='same', strides=(1, 1), name='conv3', activation='relu', \n",
        "                     kernel_initializer=glorot_uniform(seed=0)))\n",
        "    model.add(BatchNormalization())\n",
        "    model.add(MaxPool2D((2, 2), strides=(2, 2)))\n",
        "    model.add(Conv2D(64, (3, 3), padding='same', strides=(1, 1), name='conv4', activation='relu', \n",
        "                     kernel_initializer=glorot_uniform(seed=0)))\n",
        "    model.add(BatchNormalization())\n",
        "    model.add(Dropout(0.3))\n",
        "    model.add(MaxPool2D((2, 2), strides=(2, 2)))\n",
        "    \n",
        "    model.add(Conv2D(64, (3, 3), padding='same', strides=(1, 1), name='conv5', activation='relu', \n",
        "                     kernel_initializer=glorot_uniform(seed=0)))\n",
        "    model.add(BatchNormalization())\n",
        "    model.add(Conv2D(64, (3, 3), padding='same', strides=(1, 1), name='conv6', activation='relu', \n",
        "                     kernel_initializer=glorot_uniform(seed=0)))\n",
        "    model.add(BatchNormalization())\n",
        "    model.add(Conv2D(64, (3, 3), padding='same', strides=(1, 1), name='conv7', activation='relu', \n",
        "                     kernel_initializer=glorot_uniform(seed=0)))\n",
        "    model.add(BatchNormalization())\n",
        "    model.add(Dropout(0.4))\n",
        "    model.add(MaxPool2D((2, 2), strides=(2, 2)))\n",
        "    \n",
        "    \n",
        "    model.add(Flatten())\n",
        "    model.add(Dense(128, activation='relu', kernel_initializer=glorot_uniform(seed=0), name='fc1'))\n",
        "    model.add(Dropout(0.5))\n",
        "    model.add(Dense(128, activation='relu', kernel_initializer=glorot_uniform(seed=0), name='fc2'))\n",
        "    model.add(Dropout(0.5))\n",
        "    model.add(Dense(2, activation='softmax', kernel_initializer=glorot_uniform(seed=0), name='fc3'))\n",
        "    \n",
        "    optimizer = Adam(0.0001)\n",
        "    model.compile(optimizer=optimizer, loss='categorical_crossentropy', metrics=['accuracy'])\n",
        "    return model"
      ],
      "metadata": {
        "id": "gbZvmktkXtg7"
      },
      "execution_count": 49,
      "outputs": []
    },
    {
      "cell_type": "code",
      "source": [
        "model= driver_drowsiness_detection_model(input_shape=(32, 32, 3))\n",
        "model.summary()"
      ],
      "metadata": {
        "colab": {
          "base_uri": "https://localhost:8080/"
        },
        "id": "tVBZIGfbXtsC",
        "outputId": "1414450d-04e8-4dc8-ca83-acabf9bffc89"
      },
      "execution_count": 50,
      "outputs": [
        {
          "output_type": "stream",
          "name": "stdout",
          "text": [
            "Model: \"sequential_1\"\n",
            "_________________________________________________________________\n",
            " Layer (type)                Output Shape              Param #   \n",
            "=================================================================\n",
            " conv1 (Conv2D)              (None, 32, 32, 32)        896       \n",
            "                                                                 \n",
            " batch_normalization_7 (Batc  (None, 32, 32, 32)       128       \n",
            " hNormalization)                                                 \n",
            "                                                                 \n",
            " conv2 (Conv2D)              (None, 32, 32, 32)        9248      \n",
            "                                                                 \n",
            " batch_normalization_8 (Batc  (None, 32, 32, 32)       128       \n",
            " hNormalization)                                                 \n",
            "                                                                 \n",
            " dropout_5 (Dropout)         (None, 32, 32, 32)        0         \n",
            "                                                                 \n",
            " max_pooling2d_4 (MaxPooling  (None, 16, 16, 32)       0         \n",
            " 2D)                                                             \n",
            "                                                                 \n",
            " conv3 (Conv2D)              (None, 16, 16, 64)        18496     \n",
            "                                                                 \n",
            " batch_normalization_9 (Batc  (None, 16, 16, 64)       256       \n",
            " hNormalization)                                                 \n",
            "                                                                 \n",
            " max_pooling2d_5 (MaxPooling  (None, 8, 8, 64)         0         \n",
            " 2D)                                                             \n",
            "                                                                 \n",
            " conv4 (Conv2D)              (None, 8, 8, 64)          36928     \n",
            "                                                                 \n",
            " batch_normalization_10 (Bat  (None, 8, 8, 64)         256       \n",
            " chNormalization)                                                \n",
            "                                                                 \n",
            " dropout_6 (Dropout)         (None, 8, 8, 64)          0         \n",
            "                                                                 \n",
            " max_pooling2d_6 (MaxPooling  (None, 4, 4, 64)         0         \n",
            " 2D)                                                             \n",
            "                                                                 \n",
            " conv5 (Conv2D)              (None, 4, 4, 64)          36928     \n",
            "                                                                 \n",
            " batch_normalization_11 (Bat  (None, 4, 4, 64)         256       \n",
            " chNormalization)                                                \n",
            "                                                                 \n",
            " conv6 (Conv2D)              (None, 4, 4, 64)          36928     \n",
            "                                                                 \n",
            " batch_normalization_12 (Bat  (None, 4, 4, 64)         256       \n",
            " chNormalization)                                                \n",
            "                                                                 \n",
            " conv7 (Conv2D)              (None, 4, 4, 64)          36928     \n",
            "                                                                 \n",
            " batch_normalization_13 (Bat  (None, 4, 4, 64)         256       \n",
            " chNormalization)                                                \n",
            "                                                                 \n",
            " dropout_7 (Dropout)         (None, 4, 4, 64)          0         \n",
            "                                                                 \n",
            " max_pooling2d_7 (MaxPooling  (None, 2, 2, 64)         0         \n",
            " 2D)                                                             \n",
            "                                                                 \n",
            " flatten_1 (Flatten)         (None, 256)               0         \n",
            "                                                                 \n",
            " fc1 (Dense)                 (None, 128)               32896     \n",
            "                                                                 \n",
            " dropout_8 (Dropout)         (None, 128)               0         \n",
            "                                                                 \n",
            " fc2 (Dense)                 (None, 128)               16512     \n",
            "                                                                 \n",
            " dropout_9 (Dropout)         (None, 128)               0         \n",
            "                                                                 \n",
            " fc3 (Dense)                 (None, 2)                 258       \n",
            "                                                                 \n",
            "=================================================================\n",
            "Total params: 227,554\n",
            "Trainable params: 226,786\n",
            "Non-trainable params: 768\n",
            "_________________________________________________________________\n"
          ]
        }
      ]
    },
    {
      "cell_type": "code",
      "source": [
        "aug = ImageDataGenerator(rotation_range=20, zoom_range=0.2, horizontal_flip=True)\n",
        "hist = model.fit(aug.flow(X_train, Y_train, batch_size=128), batch_size=128, epochs=200, validation_data=(X_test, Y_test))"
      ],
      "metadata": {
        "colab": {
          "base_uri": "https://localhost:8080/"
        },
        "id": "JpWIuAktXyQT",
        "outputId": "01250728-eec3-4461-9195-22842d03207c"
      },
      "execution_count": 51,
      "outputs": [
        {
          "output_type": "stream",
          "name": "stdout",
          "text": [
            "Epoch 1/200\n",
            "10/10 [==============================] - 12s 889ms/step - loss: 1.3793 - accuracy: 0.5013 - val_loss: 0.7088 - val_accuracy: 0.5017\n",
            "Epoch 2/200\n",
            "10/10 [==============================] - 7s 762ms/step - loss: 1.1096 - accuracy: 0.5754 - val_loss: 0.6957 - val_accuracy: 0.5155\n",
            "Epoch 3/200\n",
            "10/10 [==============================] - 8s 767ms/step - loss: 1.0190 - accuracy: 0.5659 - val_loss: 0.6720 - val_accuracy: 0.5567\n",
            "Epoch 4/200\n",
            "10/10 [==============================] - 7s 693ms/step - loss: 0.9010 - accuracy: 0.5874 - val_loss: 0.6450 - val_accuracy: 0.5911\n",
            "Epoch 5/200\n",
            "10/10 [==============================] - 9s 948ms/step - loss: 0.8853 - accuracy: 0.6202 - val_loss: 0.6256 - val_accuracy: 0.6495\n",
            "Epoch 6/200\n",
            "10/10 [==============================] - 8s 830ms/step - loss: 0.8357 - accuracy: 0.6176 - val_loss: 0.6153 - val_accuracy: 0.6770\n",
            "Epoch 7/200\n",
            "10/10 [==============================] - 7s 708ms/step - loss: 0.8111 - accuracy: 0.6288 - val_loss: 0.6044 - val_accuracy: 0.7354\n",
            "Epoch 8/200\n",
            "10/10 [==============================] - 8s 923ms/step - loss: 0.7449 - accuracy: 0.6400 - val_loss: 0.5949 - val_accuracy: 0.7320\n",
            "Epoch 9/200\n",
            "10/10 [==============================] - 8s 850ms/step - loss: 0.7709 - accuracy: 0.6374 - val_loss: 0.5906 - val_accuracy: 0.7216\n",
            "Epoch 10/200\n",
            "10/10 [==============================] - 8s 796ms/step - loss: 0.7329 - accuracy: 0.6434 - val_loss: 0.5827 - val_accuracy: 0.7251\n",
            "Epoch 11/200\n",
            "10/10 [==============================] - 8s 855ms/step - loss: 0.7127 - accuracy: 0.6460 - val_loss: 0.5732 - val_accuracy: 0.7182\n",
            "Epoch 12/200\n",
            "10/10 [==============================] - 9s 817ms/step - loss: 0.7282 - accuracy: 0.6348 - val_loss: 0.5637 - val_accuracy: 0.7148\n",
            "Epoch 13/200\n",
            "10/10 [==============================] - 9s 968ms/step - loss: 0.6656 - accuracy: 0.6960 - val_loss: 0.5519 - val_accuracy: 0.7148\n",
            "Epoch 14/200\n",
            "10/10 [==============================] - 8s 795ms/step - loss: 0.6831 - accuracy: 0.6434 - val_loss: 0.5389 - val_accuracy: 0.7251\n",
            "Epoch 15/200\n",
            "10/10 [==============================] - 8s 713ms/step - loss: 0.5868 - accuracy: 0.6882 - val_loss: 0.5229 - val_accuracy: 0.7491\n",
            "Epoch 16/200\n",
            "10/10 [==============================] - 9s 948ms/step - loss: 0.6172 - accuracy: 0.6968 - val_loss: 0.5069 - val_accuracy: 0.7732\n",
            "Epoch 17/200\n",
            "10/10 [==============================] - 8s 818ms/step - loss: 0.6239 - accuracy: 0.7020 - val_loss: 0.4893 - val_accuracy: 0.7904\n",
            "Epoch 18/200\n",
            "10/10 [==============================] - 8s 723ms/step - loss: 0.5885 - accuracy: 0.7149 - val_loss: 0.4724 - val_accuracy: 0.8007\n",
            "Epoch 19/200\n",
            "10/10 [==============================] - 9s 802ms/step - loss: 0.5641 - accuracy: 0.7209 - val_loss: 0.4563 - val_accuracy: 0.8041\n",
            "Epoch 20/200\n",
            "10/10 [==============================] - 9s 969ms/step - loss: 0.5794 - accuracy: 0.7373 - val_loss: 0.4391 - val_accuracy: 0.8110\n",
            "Epoch 21/200\n",
            "10/10 [==============================] - 7s 711ms/step - loss: 0.5427 - accuracy: 0.7252 - val_loss: 0.4144 - val_accuracy: 0.8282\n",
            "Epoch 22/200\n",
            "10/10 [==============================] - 7s 716ms/step - loss: 0.5212 - accuracy: 0.7528 - val_loss: 0.3929 - val_accuracy: 0.8454\n",
            "Epoch 23/200\n",
            "10/10 [==============================] - 7s 718ms/step - loss: 0.5174 - accuracy: 0.7511 - val_loss: 0.3809 - val_accuracy: 0.8522\n",
            "Epoch 24/200\n",
            "10/10 [==============================] - 9s 816ms/step - loss: 0.5074 - accuracy: 0.7666 - val_loss: 0.3673 - val_accuracy: 0.8625\n",
            "Epoch 25/200\n",
            "10/10 [==============================] - 9s 875ms/step - loss: 0.4992 - accuracy: 0.7692 - val_loss: 0.3536 - val_accuracy: 0.8625\n",
            "Epoch 26/200\n",
            "10/10 [==============================] - 8s 847ms/step - loss: 0.4931 - accuracy: 0.7907 - val_loss: 0.3399 - val_accuracy: 0.8660\n",
            "Epoch 27/200\n",
            "10/10 [==============================] - 8s 819ms/step - loss: 0.4757 - accuracy: 0.8010 - val_loss: 0.3281 - val_accuracy: 0.8625\n",
            "Epoch 28/200\n",
            "10/10 [==============================] - 9s 848ms/step - loss: 0.4476 - accuracy: 0.8062 - val_loss: 0.3188 - val_accuracy: 0.8625\n",
            "Epoch 29/200\n",
            "10/10 [==============================] - 9s 1s/step - loss: 0.4363 - accuracy: 0.8088 - val_loss: 0.3063 - val_accuracy: 0.8694\n",
            "Epoch 30/200\n",
            "10/10 [==============================] - 9s 892ms/step - loss: 0.4452 - accuracy: 0.8131 - val_loss: 0.2935 - val_accuracy: 0.8832\n",
            "Epoch 31/200\n",
            "10/10 [==============================] - 8s 733ms/step - loss: 0.4464 - accuracy: 0.8114 - val_loss: 0.2818 - val_accuracy: 0.9003\n",
            "Epoch 32/200\n",
            "10/10 [==============================] - 8s 845ms/step - loss: 0.3974 - accuracy: 0.8355 - val_loss: 0.2777 - val_accuracy: 0.8935\n",
            "Epoch 33/200\n",
            "10/10 [==============================] - 8s 785ms/step - loss: 0.3936 - accuracy: 0.8415 - val_loss: 0.2669 - val_accuracy: 0.8900\n",
            "Epoch 34/200\n",
            "10/10 [==============================] - 8s 749ms/step - loss: 0.3655 - accuracy: 0.8346 - val_loss: 0.2619 - val_accuracy: 0.8935\n",
            "Epoch 35/200\n",
            "10/10 [==============================] - 9s 859ms/step - loss: 0.3868 - accuracy: 0.8303 - val_loss: 0.2533 - val_accuracy: 0.8935\n",
            "Epoch 36/200\n",
            "10/10 [==============================] - 9s 855ms/step - loss: 0.3641 - accuracy: 0.8450 - val_loss: 0.2436 - val_accuracy: 0.9003\n",
            "Epoch 37/200\n",
            "10/10 [==============================] - 7s 725ms/step - loss: 0.3443 - accuracy: 0.8613 - val_loss: 0.2385 - val_accuracy: 0.8935\n",
            "Epoch 38/200\n",
            "10/10 [==============================] - 8s 765ms/step - loss: 0.3400 - accuracy: 0.8622 - val_loss: 0.2338 - val_accuracy: 0.8935\n",
            "Epoch 39/200\n",
            "10/10 [==============================] - 9s 893ms/step - loss: 0.3449 - accuracy: 0.8630 - val_loss: 0.2295 - val_accuracy: 0.8969\n",
            "Epoch 40/200\n",
            "10/10 [==============================] - 9s 951ms/step - loss: 0.3346 - accuracy: 0.8717 - val_loss: 0.2237 - val_accuracy: 0.9003\n",
            "Epoch 41/200\n",
            "10/10 [==============================] - 7s 719ms/step - loss: 0.3178 - accuracy: 0.8854 - val_loss: 0.2197 - val_accuracy: 0.8935\n",
            "Epoch 42/200\n",
            "10/10 [==============================] - 7s 721ms/step - loss: 0.2963 - accuracy: 0.8811 - val_loss: 0.2163 - val_accuracy: 0.8969\n",
            "Epoch 43/200\n",
            "10/10 [==============================] - 8s 738ms/step - loss: 0.2942 - accuracy: 0.8768 - val_loss: 0.2146 - val_accuracy: 0.9003\n",
            "Epoch 44/200\n",
            "10/10 [==============================] - 9s 898ms/step - loss: 0.3040 - accuracy: 0.8932 - val_loss: 0.2089 - val_accuracy: 0.9038\n",
            "Epoch 45/200\n",
            "10/10 [==============================] - 9s 867ms/step - loss: 0.2572 - accuracy: 0.8984 - val_loss: 0.2003 - val_accuracy: 0.9107\n",
            "Epoch 46/200\n",
            "10/10 [==============================] - 8s 754ms/step - loss: 0.2572 - accuracy: 0.8958 - val_loss: 0.1955 - val_accuracy: 0.9175\n",
            "Epoch 47/200\n",
            "10/10 [==============================] - 9s 893ms/step - loss: 0.3100 - accuracy: 0.8906 - val_loss: 0.1923 - val_accuracy: 0.9175\n",
            "Epoch 48/200\n",
            "10/10 [==============================] - 9s 858ms/step - loss: 0.2448 - accuracy: 0.9053 - val_loss: 0.1910 - val_accuracy: 0.9141\n",
            "Epoch 49/200\n",
            "10/10 [==============================] - 8s 777ms/step - loss: 0.2572 - accuracy: 0.9044 - val_loss: 0.1896 - val_accuracy: 0.9141\n",
            "Epoch 50/200\n",
            "10/10 [==============================] - 8s 719ms/step - loss: 0.2249 - accuracy: 0.9182 - val_loss: 0.1880 - val_accuracy: 0.9175\n",
            "Epoch 51/200\n",
            "10/10 [==============================] - 9s 853ms/step - loss: 0.2408 - accuracy: 0.9027 - val_loss: 0.1787 - val_accuracy: 0.9175\n",
            "Epoch 52/200\n",
            "10/10 [==============================] - 8s 851ms/step - loss: 0.2326 - accuracy: 0.9070 - val_loss: 0.1656 - val_accuracy: 0.9210\n",
            "Epoch 53/200\n",
            "10/10 [==============================] - 8s 757ms/step - loss: 0.2335 - accuracy: 0.9044 - val_loss: 0.1670 - val_accuracy: 0.9210\n",
            "Epoch 54/200\n",
            "10/10 [==============================] - 9s 785ms/step - loss: 0.2122 - accuracy: 0.9190 - val_loss: 0.1690 - val_accuracy: 0.9175\n",
            "Epoch 55/200\n",
            "10/10 [==============================] - 9s 947ms/step - loss: 0.2216 - accuracy: 0.9190 - val_loss: 0.1555 - val_accuracy: 0.9244\n",
            "Epoch 56/200\n",
            "10/10 [==============================] - 7s 706ms/step - loss: 0.2094 - accuracy: 0.9165 - val_loss: 0.1570 - val_accuracy: 0.9175\n",
            "Epoch 57/200\n",
            "10/10 [==============================] - 11s 1s/step - loss: 0.2285 - accuracy: 0.9190 - val_loss: 0.1528 - val_accuracy: 0.9210\n",
            "Epoch 58/200\n",
            "10/10 [==============================] - 13s 1s/step - loss: 0.2289 - accuracy: 0.9233 - val_loss: 0.1456 - val_accuracy: 0.9244\n",
            "Epoch 59/200\n",
            "10/10 [==============================] - 8s 776ms/step - loss: 0.1994 - accuracy: 0.9199 - val_loss: 0.1350 - val_accuracy: 0.9381\n",
            "Epoch 60/200\n",
            "10/10 [==============================] - 7s 702ms/step - loss: 0.2361 - accuracy: 0.9199 - val_loss: 0.1330 - val_accuracy: 0.9381\n",
            "Epoch 61/200\n",
            "10/10 [==============================] - 9s 896ms/step - loss: 0.1947 - accuracy: 0.9216 - val_loss: 0.1280 - val_accuracy: 0.9416\n",
            "Epoch 62/200\n",
            "10/10 [==============================] - 8s 920ms/step - loss: 0.2063 - accuracy: 0.9139 - val_loss: 0.1250 - val_accuracy: 0.9485\n",
            "Epoch 63/200\n",
            "10/10 [==============================] - 7s 732ms/step - loss: 0.1945 - accuracy: 0.9388 - val_loss: 0.1283 - val_accuracy: 0.9347\n",
            "Epoch 64/200\n",
            "10/10 [==============================] - 8s 745ms/step - loss: 0.1920 - accuracy: 0.9406 - val_loss: 0.1242 - val_accuracy: 0.9381\n",
            "Epoch 65/200\n",
            "10/10 [==============================] - 9s 780ms/step - loss: 0.1657 - accuracy: 0.9432 - val_loss: 0.1064 - val_accuracy: 0.9622\n",
            "Epoch 66/200\n",
            "10/10 [==============================] - 10s 1s/step - loss: 0.1726 - accuracy: 0.9397 - val_loss: 0.1061 - val_accuracy: 0.9622\n",
            "Epoch 67/200\n",
            "10/10 [==============================] - 8s 756ms/step - loss: 0.1578 - accuracy: 0.9432 - val_loss: 0.1107 - val_accuracy: 0.9588\n",
            "Epoch 68/200\n",
            "10/10 [==============================] - 9s 832ms/step - loss: 0.1794 - accuracy: 0.9328 - val_loss: 0.1139 - val_accuracy: 0.9553\n",
            "Epoch 69/200\n",
            "10/10 [==============================] - 9s 883ms/step - loss: 0.1741 - accuracy: 0.9371 - val_loss: 0.1146 - val_accuracy: 0.9553\n",
            "Epoch 70/200\n",
            "10/10 [==============================] - 9s 880ms/step - loss: 0.1625 - accuracy: 0.9328 - val_loss: 0.1111 - val_accuracy: 0.9553\n",
            "Epoch 71/200\n",
            "10/10 [==============================] - 7s 798ms/step - loss: 0.1600 - accuracy: 0.9449 - val_loss: 0.1127 - val_accuracy: 0.9519\n",
            "Epoch 72/200\n",
            "10/10 [==============================] - 8s 927ms/step - loss: 0.1494 - accuracy: 0.9449 - val_loss: 0.1187 - val_accuracy: 0.9450\n",
            "Epoch 73/200\n",
            "10/10 [==============================] - 8s 822ms/step - loss: 0.1683 - accuracy: 0.9475 - val_loss: 0.1162 - val_accuracy: 0.9450\n",
            "Epoch 74/200\n",
            "10/10 [==============================] - 7s 718ms/step - loss: 0.1568 - accuracy: 0.9449 - val_loss: 0.1173 - val_accuracy: 0.9485\n",
            "Epoch 75/200\n",
            "10/10 [==============================] - 9s 886ms/step - loss: 0.1636 - accuracy: 0.9466 - val_loss: 0.1187 - val_accuracy: 0.9450\n",
            "Epoch 76/200\n",
            "10/10 [==============================] - 9s 953ms/step - loss: 0.1471 - accuracy: 0.9492 - val_loss: 0.1170 - val_accuracy: 0.9485\n",
            "Epoch 77/200\n",
            "10/10 [==============================] - 8s 742ms/step - loss: 0.1478 - accuracy: 0.9500 - val_loss: 0.1125 - val_accuracy: 0.9485\n",
            "Epoch 78/200\n",
            "10/10 [==============================] - 8s 744ms/step - loss: 0.1335 - accuracy: 0.9509 - val_loss: 0.1075 - val_accuracy: 0.9588\n",
            "Epoch 79/200\n",
            "10/10 [==============================] - 9s 968ms/step - loss: 0.1495 - accuracy: 0.9492 - val_loss: 0.1041 - val_accuracy: 0.9622\n",
            "Epoch 80/200\n",
            "10/10 [==============================] - 9s 874ms/step - loss: 0.1502 - accuracy: 0.9449 - val_loss: 0.1031 - val_accuracy: 0.9588\n",
            "Epoch 81/200\n",
            "10/10 [==============================] - 7s 703ms/step - loss: 0.1308 - accuracy: 0.9518 - val_loss: 0.1228 - val_accuracy: 0.9553\n",
            "Epoch 82/200\n",
            "10/10 [==============================] - 8s 774ms/step - loss: 0.1386 - accuracy: 0.9483 - val_loss: 0.1047 - val_accuracy: 0.9588\n",
            "Epoch 83/200\n",
            "10/10 [==============================] - 9s 895ms/step - loss: 0.1151 - accuracy: 0.9638 - val_loss: 0.1160 - val_accuracy: 0.9553\n",
            "Epoch 84/200\n",
            "10/10 [==============================] - 8s 746ms/step - loss: 0.1570 - accuracy: 0.9423 - val_loss: 0.0982 - val_accuracy: 0.9656\n",
            "Epoch 85/200\n",
            "10/10 [==============================] - 7s 738ms/step - loss: 0.1285 - accuracy: 0.9569 - val_loss: 0.0957 - val_accuracy: 0.9656\n",
            "Epoch 86/200\n",
            "10/10 [==============================] - 7s 677ms/step - loss: 0.1204 - accuracy: 0.9475 - val_loss: 0.0997 - val_accuracy: 0.9656\n",
            "Epoch 87/200\n",
            "10/10 [==============================] - 9s 861ms/step - loss: 0.1219 - accuracy: 0.9543 - val_loss: 0.1019 - val_accuracy: 0.9656\n",
            "Epoch 88/200\n",
            "10/10 [==============================] - 9s 878ms/step - loss: 0.1333 - accuracy: 0.9509 - val_loss: 0.0995 - val_accuracy: 0.9588\n",
            "Epoch 89/200\n",
            "10/10 [==============================] - 8s 742ms/step - loss: 0.1191 - accuracy: 0.9552 - val_loss: 0.0960 - val_accuracy: 0.9656\n",
            "Epoch 90/200\n",
            "10/10 [==============================] - 7s 713ms/step - loss: 0.1139 - accuracy: 0.9595 - val_loss: 0.0976 - val_accuracy: 0.9656\n",
            "Epoch 91/200\n",
            "10/10 [==============================] - 9s 825ms/step - loss: 0.1283 - accuracy: 0.9543 - val_loss: 0.0951 - val_accuracy: 0.9725\n",
            "Epoch 92/200\n",
            "10/10 [==============================] - 9s 883ms/step - loss: 0.1126 - accuracy: 0.9630 - val_loss: 0.1011 - val_accuracy: 0.9725\n",
            "Epoch 93/200\n",
            "10/10 [==============================] - 8s 782ms/step - loss: 0.1413 - accuracy: 0.9518 - val_loss: 0.0936 - val_accuracy: 0.9725\n",
            "Epoch 94/200\n",
            "10/10 [==============================] - 7s 818ms/step - loss: 0.1153 - accuracy: 0.9621 - val_loss: 0.0788 - val_accuracy: 0.9691\n",
            "Epoch 95/200\n",
            "10/10 [==============================] - 8s 844ms/step - loss: 0.1189 - accuracy: 0.9595 - val_loss: 0.0778 - val_accuracy: 0.9759\n",
            "Epoch 96/200\n",
            "10/10 [==============================] - 8s 911ms/step - loss: 0.1260 - accuracy: 0.9604 - val_loss: 0.0785 - val_accuracy: 0.9622\n",
            "Epoch 97/200\n",
            "10/10 [==============================] - 7s 723ms/step - loss: 0.1015 - accuracy: 0.9630 - val_loss: 0.0901 - val_accuracy: 0.9622\n",
            "Epoch 98/200\n",
            "10/10 [==============================] - 9s 852ms/step - loss: 0.1072 - accuracy: 0.9509 - val_loss: 0.0840 - val_accuracy: 0.9656\n",
            "Epoch 99/200\n",
            "10/10 [==============================] - 8s 842ms/step - loss: 0.1265 - accuracy: 0.9587 - val_loss: 0.0690 - val_accuracy: 0.9725\n",
            "Epoch 100/200\n",
            "10/10 [==============================] - 7s 708ms/step - loss: 0.1336 - accuracy: 0.9518 - val_loss: 0.0660 - val_accuracy: 0.9794\n",
            "Epoch 101/200\n",
            "10/10 [==============================] - 8s 743ms/step - loss: 0.0993 - accuracy: 0.9664 - val_loss: 0.0672 - val_accuracy: 0.9794\n",
            "Epoch 102/200\n",
            "10/10 [==============================] - 8s 832ms/step - loss: 0.0937 - accuracy: 0.9733 - val_loss: 0.0654 - val_accuracy: 0.9794\n",
            "Epoch 103/200\n",
            "10/10 [==============================] - 8s 754ms/step - loss: 0.0973 - accuracy: 0.9655 - val_loss: 0.0675 - val_accuracy: 0.9794\n",
            "Epoch 104/200\n",
            "10/10 [==============================] - 7s 713ms/step - loss: 0.0837 - accuracy: 0.9690 - val_loss: 0.0676 - val_accuracy: 0.9794\n",
            "Epoch 105/200\n",
            "10/10 [==============================] - 8s 879ms/step - loss: 0.1047 - accuracy: 0.9673 - val_loss: 0.0662 - val_accuracy: 0.9828\n",
            "Epoch 106/200\n",
            "10/10 [==============================] - 8s 751ms/step - loss: 0.1039 - accuracy: 0.9699 - val_loss: 0.0638 - val_accuracy: 0.9828\n",
            "Epoch 107/200\n",
            "10/10 [==============================] - 9s 934ms/step - loss: 0.0882 - accuracy: 0.9776 - val_loss: 0.0638 - val_accuracy: 0.9828\n",
            "Epoch 108/200\n",
            "10/10 [==============================] - 8s 798ms/step - loss: 0.0870 - accuracy: 0.9724 - val_loss: 0.0748 - val_accuracy: 0.9794\n",
            "Epoch 109/200\n",
            "10/10 [==============================] - 8s 705ms/step - loss: 0.0875 - accuracy: 0.9647 - val_loss: 0.0711 - val_accuracy: 0.9794\n",
            "Epoch 110/200\n",
            "10/10 [==============================] - 8s 846ms/step - loss: 0.0880 - accuracy: 0.9604 - val_loss: 0.0734 - val_accuracy: 0.9794\n",
            "Epoch 111/200\n",
            "10/10 [==============================] - 7s 699ms/step - loss: 0.0878 - accuracy: 0.9699 - val_loss: 0.0764 - val_accuracy: 0.9794\n",
            "Epoch 112/200\n",
            "10/10 [==============================] - 7s 740ms/step - loss: 0.0748 - accuracy: 0.9742 - val_loss: 0.0659 - val_accuracy: 0.9828\n",
            "Epoch 113/200\n",
            "10/10 [==============================] - 7s 704ms/step - loss: 0.0861 - accuracy: 0.9673 - val_loss: 0.0655 - val_accuracy: 0.9759\n",
            "Epoch 114/200\n",
            "10/10 [==============================] - 9s 875ms/step - loss: 0.1390 - accuracy: 0.9500 - val_loss: 0.1711 - val_accuracy: 0.9450\n",
            "Epoch 115/200\n",
            "10/10 [==============================] - 8s 852ms/step - loss: 0.1120 - accuracy: 0.9621 - val_loss: 0.0689 - val_accuracy: 0.9794\n",
            "Epoch 116/200\n",
            "10/10 [==============================] - 7s 703ms/step - loss: 0.0839 - accuracy: 0.9759 - val_loss: 0.0661 - val_accuracy: 0.9828\n",
            "Epoch 117/200\n",
            "10/10 [==============================] - 9s 883ms/step - loss: 0.0829 - accuracy: 0.9604 - val_loss: 0.0661 - val_accuracy: 0.9794\n",
            "Epoch 118/200\n",
            "10/10 [==============================] - 8s 895ms/step - loss: 0.0788 - accuracy: 0.9664 - val_loss: 0.0719 - val_accuracy: 0.9794\n",
            "Epoch 119/200\n",
            "10/10 [==============================] - 8s 753ms/step - loss: 0.0836 - accuracy: 0.9724 - val_loss: 0.0983 - val_accuracy: 0.9622\n",
            "Epoch 120/200\n",
            "10/10 [==============================] - 7s 702ms/step - loss: 0.0830 - accuracy: 0.9699 - val_loss: 0.0800 - val_accuracy: 0.9725\n",
            "Epoch 121/200\n",
            "10/10 [==============================] - 8s 849ms/step - loss: 0.0802 - accuracy: 0.9681 - val_loss: 0.0674 - val_accuracy: 0.9725\n",
            "Epoch 122/200\n",
            "10/10 [==============================] - 9s 890ms/step - loss: 0.0768 - accuracy: 0.9707 - val_loss: 0.0619 - val_accuracy: 0.9828\n",
            "Epoch 123/200\n",
            "10/10 [==============================] - 7s 706ms/step - loss: 0.0884 - accuracy: 0.9673 - val_loss: 0.0632 - val_accuracy: 0.9828\n",
            "Epoch 124/200\n",
            "10/10 [==============================] - 9s 961ms/step - loss: 0.0580 - accuracy: 0.9793 - val_loss: 0.0619 - val_accuracy: 0.9828\n",
            "Epoch 125/200\n",
            "10/10 [==============================] - 9s 882ms/step - loss: 0.0793 - accuracy: 0.9733 - val_loss: 0.0644 - val_accuracy: 0.9828\n",
            "Epoch 126/200\n",
            "10/10 [==============================] - 7s 717ms/step - loss: 0.0685 - accuracy: 0.9793 - val_loss: 0.0651 - val_accuracy: 0.9828\n",
            "Epoch 127/200\n",
            "10/10 [==============================] - 9s 852ms/step - loss: 0.0709 - accuracy: 0.9716 - val_loss: 0.0630 - val_accuracy: 0.9828\n",
            "Epoch 128/200\n",
            "10/10 [==============================] - 8s 833ms/step - loss: 0.0710 - accuracy: 0.9759 - val_loss: 0.0634 - val_accuracy: 0.9794\n",
            "Epoch 129/200\n",
            "10/10 [==============================] - 7s 691ms/step - loss: 0.0783 - accuracy: 0.9785 - val_loss: 0.0633 - val_accuracy: 0.9794\n",
            "Epoch 130/200\n",
            "10/10 [==============================] - 7s 706ms/step - loss: 0.0867 - accuracy: 0.9638 - val_loss: 0.0740 - val_accuracy: 0.9725\n",
            "Epoch 131/200\n",
            "10/10 [==============================] - 8s 841ms/step - loss: 0.0772 - accuracy: 0.9750 - val_loss: 0.0707 - val_accuracy: 0.9828\n",
            "Epoch 132/200\n",
            "10/10 [==============================] - 8s 840ms/step - loss: 0.1194 - accuracy: 0.9578 - val_loss: 0.1426 - val_accuracy: 0.9588\n",
            "Epoch 133/200\n",
            "10/10 [==============================] - 7s 728ms/step - loss: 0.0907 - accuracy: 0.9673 - val_loss: 0.0647 - val_accuracy: 0.9794\n",
            "Epoch 134/200\n",
            "10/10 [==============================] - 7s 688ms/step - loss: 0.0874 - accuracy: 0.9681 - val_loss: 0.0651 - val_accuracy: 0.9794\n",
            "Epoch 135/200\n",
            "10/10 [==============================] - 8s 830ms/step - loss: 0.0656 - accuracy: 0.9767 - val_loss: 0.0696 - val_accuracy: 0.9828\n",
            "Epoch 136/200\n",
            "10/10 [==============================] - 9s 865ms/step - loss: 0.0552 - accuracy: 0.9836 - val_loss: 0.0721 - val_accuracy: 0.9828\n",
            "Epoch 137/200\n",
            "10/10 [==============================] - 7s 690ms/step - loss: 0.0718 - accuracy: 0.9742 - val_loss: 0.0721 - val_accuracy: 0.9794\n",
            "Epoch 138/200\n",
            "10/10 [==============================] - 8s 835ms/step - loss: 0.0742 - accuracy: 0.9742 - val_loss: 0.0736 - val_accuracy: 0.9794\n",
            "Epoch 139/200\n",
            "10/10 [==============================] - 8s 893ms/step - loss: 0.0610 - accuracy: 0.9819 - val_loss: 0.0679 - val_accuracy: 0.9863\n",
            "Epoch 140/200\n",
            "10/10 [==============================] - 7s 698ms/step - loss: 0.0706 - accuracy: 0.9742 - val_loss: 0.0708 - val_accuracy: 0.9794\n",
            "Epoch 141/200\n",
            "10/10 [==============================] - 8s 833ms/step - loss: 0.0685 - accuracy: 0.9759 - val_loss: 0.0776 - val_accuracy: 0.9759\n",
            "Epoch 142/200\n",
            "10/10 [==============================] - 8s 850ms/step - loss: 0.0694 - accuracy: 0.9785 - val_loss: 0.0700 - val_accuracy: 0.9794\n",
            "Epoch 143/200\n",
            "10/10 [==============================] - 7s 725ms/step - loss: 0.0628 - accuracy: 0.9811 - val_loss: 0.0663 - val_accuracy: 0.9794\n",
            "Epoch 144/200\n",
            "10/10 [==============================] - 10s 951ms/step - loss: 0.0569 - accuracy: 0.9793 - val_loss: 0.0657 - val_accuracy: 0.9828\n",
            "Epoch 145/200\n",
            "10/10 [==============================] - 8s 835ms/step - loss: 0.0549 - accuracy: 0.9776 - val_loss: 0.0600 - val_accuracy: 0.9828\n",
            "Epoch 146/200\n",
            "10/10 [==============================] - 8s 812ms/step - loss: 0.0589 - accuracy: 0.9828 - val_loss: 0.0546 - val_accuracy: 0.9828\n",
            "Epoch 147/200\n",
            "10/10 [==============================] - 7s 729ms/step - loss: 0.0456 - accuracy: 0.9836 - val_loss: 0.0571 - val_accuracy: 0.9828\n",
            "Epoch 148/200\n",
            "10/10 [==============================] - 8s 832ms/step - loss: 0.0648 - accuracy: 0.9733 - val_loss: 0.0736 - val_accuracy: 0.9725\n",
            "Epoch 149/200\n",
            "10/10 [==============================] - 9s 858ms/step - loss: 0.0604 - accuracy: 0.9776 - val_loss: 0.0600 - val_accuracy: 0.9759\n",
            "Epoch 150/200\n",
            "10/10 [==============================] - 7s 688ms/step - loss: 0.0609 - accuracy: 0.9785 - val_loss: 0.0557 - val_accuracy: 0.9759\n",
            "Epoch 151/200\n",
            "10/10 [==============================] - 7s 763ms/step - loss: 0.0763 - accuracy: 0.9759 - val_loss: 0.0579 - val_accuracy: 0.9828\n",
            "Epoch 152/200\n",
            "10/10 [==============================] - 9s 862ms/step - loss: 0.0662 - accuracy: 0.9776 - val_loss: 0.0602 - val_accuracy: 0.9863\n",
            "Epoch 153/200\n",
            "10/10 [==============================] - 8s 858ms/step - loss: 0.0824 - accuracy: 0.9655 - val_loss: 0.0952 - val_accuracy: 0.9725\n",
            "Epoch 154/200\n",
            "10/10 [==============================] - 7s 703ms/step - loss: 0.0806 - accuracy: 0.9690 - val_loss: 0.1136 - val_accuracy: 0.9691\n",
            "Epoch 155/200\n",
            "10/10 [==============================] - 8s 827ms/step - loss: 0.0887 - accuracy: 0.9699 - val_loss: 0.1017 - val_accuracy: 0.9828\n",
            "Epoch 156/200\n",
            "10/10 [==============================] - 8s 829ms/step - loss: 0.0615 - accuracy: 0.9793 - val_loss: 0.1056 - val_accuracy: 0.9691\n",
            "Epoch 157/200\n",
            "10/10 [==============================] - 7s 797ms/step - loss: 0.0726 - accuracy: 0.9793 - val_loss: 0.0990 - val_accuracy: 0.9794\n",
            "Epoch 158/200\n",
            "10/10 [==============================] - 8s 821ms/step - loss: 0.0787 - accuracy: 0.9742 - val_loss: 0.0906 - val_accuracy: 0.9828\n",
            "Epoch 159/200\n",
            "10/10 [==============================] - 8s 827ms/step - loss: 0.0523 - accuracy: 0.9836 - val_loss: 0.0901 - val_accuracy: 0.9794\n",
            "Epoch 160/200\n",
            "10/10 [==============================] - 7s 690ms/step - loss: 0.0636 - accuracy: 0.9793 - val_loss: 0.0951 - val_accuracy: 0.9759\n",
            "Epoch 161/200\n",
            "10/10 [==============================] - 9s 867ms/step - loss: 0.0682 - accuracy: 0.9742 - val_loss: 0.0885 - val_accuracy: 0.9794\n",
            "Epoch 162/200\n",
            "10/10 [==============================] - 8s 832ms/step - loss: 0.0500 - accuracy: 0.9819 - val_loss: 0.0863 - val_accuracy: 0.9794\n",
            "Epoch 163/200\n",
            "10/10 [==============================] - 7s 757ms/step - loss: 0.0478 - accuracy: 0.9845 - val_loss: 0.0825 - val_accuracy: 0.9828\n",
            "Epoch 164/200\n",
            "10/10 [==============================] - 10s 912ms/step - loss: 0.0444 - accuracy: 0.9854 - val_loss: 0.0798 - val_accuracy: 0.9828\n",
            "Epoch 165/200\n",
            "10/10 [==============================] - 8s 826ms/step - loss: 0.0639 - accuracy: 0.9819 - val_loss: 0.0799 - val_accuracy: 0.9794\n",
            "Epoch 166/200\n",
            "10/10 [==============================] - 7s 679ms/step - loss: 0.0373 - accuracy: 0.9836 - val_loss: 0.0822 - val_accuracy: 0.9759\n",
            "Epoch 167/200\n",
            "10/10 [==============================] - 7s 686ms/step - loss: 0.0591 - accuracy: 0.9793 - val_loss: 0.0829 - val_accuracy: 0.9759\n",
            "Epoch 168/200\n",
            "10/10 [==============================] - 7s 693ms/step - loss: 0.0511 - accuracy: 0.9793 - val_loss: 0.0827 - val_accuracy: 0.9794\n",
            "Epoch 169/200\n",
            "10/10 [==============================] - 8s 913ms/step - loss: 0.0502 - accuracy: 0.9836 - val_loss: 0.0835 - val_accuracy: 0.9794\n",
            "Epoch 170/200\n",
            "10/10 [==============================] - 7s 704ms/step - loss: 0.0464 - accuracy: 0.9828 - val_loss: 0.0870 - val_accuracy: 0.9759\n",
            "Epoch 171/200\n",
            "10/10 [==============================] - 7s 683ms/step - loss: 0.0541 - accuracy: 0.9811 - val_loss: 0.0891 - val_accuracy: 0.9759\n",
            "Epoch 172/200\n",
            "10/10 [==============================] - 8s 831ms/step - loss: 0.0508 - accuracy: 0.9854 - val_loss: 0.0878 - val_accuracy: 0.9759\n",
            "Epoch 173/200\n",
            "10/10 [==============================] - 7s 682ms/step - loss: 0.0773 - accuracy: 0.9750 - val_loss: 0.0786 - val_accuracy: 0.9794\n",
            "Epoch 174/200\n",
            "10/10 [==============================] - 8s 754ms/step - loss: 0.0595 - accuracy: 0.9776 - val_loss: 0.0715 - val_accuracy: 0.9794\n",
            "Epoch 175/200\n",
            "10/10 [==============================] - 8s 832ms/step - loss: 0.0534 - accuracy: 0.9828 - val_loss: 0.0682 - val_accuracy: 0.9828\n",
            "Epoch 176/200\n",
            "10/10 [==============================] - 7s 690ms/step - loss: 0.0451 - accuracy: 0.9862 - val_loss: 0.0891 - val_accuracy: 0.9691\n",
            "Epoch 177/200\n",
            "10/10 [==============================] - 8s 769ms/step - loss: 0.0472 - accuracy: 0.9828 - val_loss: 0.0752 - val_accuracy: 0.9794\n",
            "Epoch 178/200\n",
            "10/10 [==============================] - 8s 828ms/step - loss: 0.0449 - accuracy: 0.9854 - val_loss: 0.0631 - val_accuracy: 0.9828\n",
            "Epoch 179/200\n",
            "10/10 [==============================] - 7s 686ms/step - loss: 0.0433 - accuracy: 0.9819 - val_loss: 0.0699 - val_accuracy: 0.9828\n",
            "Epoch 180/200\n",
            "10/10 [==============================] - 8s 773ms/step - loss: 0.0362 - accuracy: 0.9879 - val_loss: 0.0823 - val_accuracy: 0.9725\n",
            "Epoch 181/200\n",
            "10/10 [==============================] - 8s 821ms/step - loss: 0.0353 - accuracy: 0.9854 - val_loss: 0.0686 - val_accuracy: 0.9828\n",
            "Epoch 182/200\n",
            "10/10 [==============================] - 8s 918ms/step - loss: 0.0427 - accuracy: 0.9845 - val_loss: 0.0958 - val_accuracy: 0.9725\n",
            "Epoch 183/200\n",
            "10/10 [==============================] - 9s 863ms/step - loss: 0.0416 - accuracy: 0.9854 - val_loss: 0.0893 - val_accuracy: 0.9725\n",
            "Epoch 184/200\n",
            "10/10 [==============================] - 8s 728ms/step - loss: 0.0376 - accuracy: 0.9845 - val_loss: 0.0851 - val_accuracy: 0.9691\n",
            "Epoch 185/200\n",
            "10/10 [==============================] - 9s 950ms/step - loss: 0.0316 - accuracy: 0.9888 - val_loss: 0.0810 - val_accuracy: 0.9759\n",
            "Epoch 186/200\n",
            "10/10 [==============================] - 7s 720ms/step - loss: 0.0278 - accuracy: 0.9888 - val_loss: 0.0741 - val_accuracy: 0.9828\n",
            "Epoch 187/200\n",
            "10/10 [==============================] - 9s 969ms/step - loss: 0.0409 - accuracy: 0.9871 - val_loss: 0.0805 - val_accuracy: 0.9794\n",
            "Epoch 188/200\n",
            "10/10 [==============================] - 9s 909ms/step - loss: 0.0349 - accuracy: 0.9871 - val_loss: 0.0779 - val_accuracy: 0.9794\n",
            "Epoch 189/200\n",
            "10/10 [==============================] - 7s 688ms/step - loss: 0.0568 - accuracy: 0.9862 - val_loss: 0.0894 - val_accuracy: 0.9759\n",
            "Epoch 190/200\n",
            "10/10 [==============================] - 8s 824ms/step - loss: 0.0295 - accuracy: 0.9914 - val_loss: 0.1012 - val_accuracy: 0.9759\n",
            "Epoch 191/200\n",
            "10/10 [==============================] - 8s 846ms/step - loss: 0.0450 - accuracy: 0.9862 - val_loss: 0.0988 - val_accuracy: 0.9794\n",
            "Epoch 192/200\n",
            "10/10 [==============================] - 7s 684ms/step - loss: 0.0407 - accuracy: 0.9862 - val_loss: 0.0929 - val_accuracy: 0.9759\n",
            "Epoch 193/200\n",
            "10/10 [==============================] - 8s 702ms/step - loss: 0.0456 - accuracy: 0.9819 - val_loss: 0.0930 - val_accuracy: 0.9759\n",
            "Epoch 194/200\n",
            "10/10 [==============================] - 9s 875ms/step - loss: 0.0392 - accuracy: 0.9888 - val_loss: 0.0835 - val_accuracy: 0.9759\n",
            "Epoch 195/200\n",
            "10/10 [==============================] - 7s 695ms/step - loss: 0.0452 - accuracy: 0.9845 - val_loss: 0.0792 - val_accuracy: 0.9759\n",
            "Epoch 196/200\n",
            "10/10 [==============================] - 7s 686ms/step - loss: 0.0384 - accuracy: 0.9836 - val_loss: 0.0787 - val_accuracy: 0.9794\n",
            "Epoch 197/200\n",
            "10/10 [==============================] - 8s 837ms/step - loss: 0.0271 - accuracy: 0.9922 - val_loss: 0.0783 - val_accuracy: 0.9794\n",
            "Epoch 198/200\n",
            "10/10 [==============================] - 8s 902ms/step - loss: 0.0235 - accuracy: 0.9940 - val_loss: 0.0750 - val_accuracy: 0.9794\n",
            "Epoch 199/200\n",
            "10/10 [==============================] - 8s 854ms/step - loss: 0.0380 - accuracy: 0.9862 - val_loss: 0.0686 - val_accuracy: 0.9828\n",
            "Epoch 200/200\n",
            "10/10 [==============================] - 7s 720ms/step - loss: 0.0439 - accuracy: 0.9871 - val_loss: 0.0652 - val_accuracy: 0.9863\n"
          ]
        }
      ]
    },
    {
      "cell_type": "code",
      "source": [
        "figure = plt.figure(figsize=(10, 10))\n",
        "plt.plot(hist.history['accuracy'], label='Train_accuracy')\n",
        "plt.plot(hist.history['val_accuracy'], label='Test_accuracy')\n",
        "plt.title('Model Accuracy')\n",
        "plt.xlabel('Epochs')\n",
        "plt.ylabel('Accuracy')\n",
        "plt.legend(loc=\"upper left\")\n",
        "plt.show()\n",
        "\n",
        "figure2 = plt.figure(figsize=(10, 10))\n",
        "plt.plot(hist.history['loss'], label='Train_loss')\n",
        "plt.plot(hist.history['val_loss'], label='Test_loss')\n",
        "plt.title('Model Loss')\n",
        "plt.xlabel('Epochs')\n",
        "plt.ylabel('Loss')\n",
        "plt.legend(loc=\"upper left\")\n",
        "plt.show()"
      ],
      "metadata": {
        "colab": {
          "base_uri": "https://localhost:8080/",
          "height": 1000
        },
        "id": "VjMusHXGXygJ",
        "outputId": "ee7e86bc-9f27-430e-8565-f2cdd9a87ee3"
      },
      "execution_count": 52,
      "outputs": [
        {
          "output_type": "display_data",
          "data": {
            "text/plain": [
              "<Figure size 720x720 with 1 Axes>"
            ],
            "image/png": "[encoded data removed]"
          },
          "metadata": {
            "needs_background": "light"
          }
        },
        {
          "output_type": "display_data",
          "data": {
            "text/plain": [
              "<Figure size 720x720 with 1 Axes>"
            ],
            "image/png": "[encoded data removed]"
          },
          "metadata": {
            "needs_background": "light"
          }
        }
      ]
    },
    {
      "cell_type": "code",
      "source": [
        "pred = model.evaluate(X_test, Y_test)\n",
        "print(f'Test Set Accuracy: {pred[1]}')\n",
        "print(f'Test Set Loss: {pred[0]}')"
      ],
      "metadata": {
        "colab": {
          "base_uri": "https://localhost:8080/"
        },
        "id": "n9dO-UT_Xyqj",
        "outputId": "ffbdd3a1-221d-44ad-bbc1-99778e1e4a0d"
      },
      "execution_count": 53,
      "outputs": [
        {
          "output_type": "stream",
          "name": "stdout",
          "text": [
            "10/10 [==============================] - 1s 107ms/step - loss: 0.0652 - accuracy: 0.9863\n",
            "Test Set Accuracy: 0.9862542748451233\n",
            "Test Set Loss: 0.06515602767467499\n"
          ]
        }
      ]
    },
    {
      "cell_type": "code",
      "source": [
        "ypred = model.predict(X_test)\n",
        "ypred = np.argmax(ypred, axis=1)\n",
        "Y_test_pred = np.argmax(Y_test, axis=1)\n",
        "print(classification_report(Y_test_pred, ypred))"
      ],
      "metadata": {
        "colab": {
          "base_uri": "https://localhost:8080/"
        },
        "id": "D8_E14ZxX4pH",
        "outputId": "51dcccc2-6477-4372-fe5f-aaabe19bdbd1"
      },
      "execution_count": 54,
      "outputs": [
        {
          "output_type": "stream",
          "name": "stdout",
          "text": [
            "10/10 [==============================] - 1s 73ms/step\n",
            "              precision    recall  f1-score   support\n",
            "\n",
            "           0       0.98      0.99      0.99       146\n",
            "           1       0.99      0.98      0.99       145\n",
            "\n",
            "    accuracy                           0.99       291\n",
            "   macro avg       0.99      0.99      0.99       291\n",
            "weighted avg       0.99      0.99      0.99       291\n",
            "\n"
          ]
        }
      ]
    },
    {
      "cell_type": "code",
      "source": [
        "matrix = confusion_matrix(Y_test_pred, ypred)\n",
        "df_cm = pd.DataFrame(matrix, index=[0, 1], columns=[0, 1])\n",
        "figure = plt.figure(figsize=(5, 5))\n",
        "sns.heatmap(df_cm, annot=True, fmt='d')"
      ],
      "metadata": {
        "colab": {
          "base_uri": "https://localhost:8080/",
          "height": 338
        },
        "id": "0mNiWpH8X6Ck",
        "outputId": "cbc30ad5-4e48-4a74-a30e-111502d6bec5"
      },
      "execution_count": 55,
      "outputs": [
        {
          "output_type": "execute_result",
          "data": {
            "text/plain": [
              "<AxesSubplot:>"
            ]
          },
          "metadata": {},
          "execution_count": 55
        },
        {
          "output_type": "display_data",
          "data": {
            "text/plain": [
              "<Figure size 360x360 with 2 Axes>"
            ],
            "image/png": "[encoded data removed]"
          },
          "metadata": {
            "needs_background": "light"
          }
        }
      ]
    },
    {
      "cell_type": "code",
      "source": [
        "model.save('Driver_Drowsiness_Detection.h5')"
      ],
      "metadata": {
        "id": "0DHNCxTrX8Xo"
      },
      "execution_count": 56,
      "outputs": []
    },
    {
      "cell_type": "code",
      "source": [
        "labels = ['Closed', 'Open']\n",
        "img_closed1 = cv2.imread('driver_drowsiness_detection/closed_eye.jpg')\n",
        "img_closed2 = cv2.imread('driver_drowsiness_detection/closed_eye2.jpg')\n",
        "img_open1 = cv2.imread('driver_drowsiness_detection/open_eye.jpg')\n",
        "img_open2 = cv2.imread('driver_drowsiness_detection/open_eye2.jpg')\n",
        "\n",
        "img_closed1 = cv2.resize(img_closed1, (32, 32))\n",
        "img_closed2 = cv2.resize(img_closed2, (32, 32))\n",
        "img_open1 = cv2.resize(img_open1, (32, 32))\n",
        "img_open2 = cv2.resize(img_open2, (32, 32))\n",
        "\n",
        "img_closed1 = np.array(img_closed1)\n",
        "img_closed2 = np.array(img_closed2)\n",
        "img_open1 = np.array(img_open1)\n",
        "img_open2 = np.array(img_open2)\n",
        "\n",
        "img_closed1 = np.expand_dims(img_closed1, axis=0)\n",
        "img_closed2 = np.expand_dims(img_closed2, axis=0)\n",
        "img_open1 = np.expand_dims(img_open1, axis=0)\n",
        "img_open2 = np.expand_dims(img_open2, axis=0)"
      ],
      "metadata": {
        "id": "Jbv4kMlTX8qC"
      },
      "execution_count": 57,
      "outputs": []
    },
    {
      "cell_type": "code",
      "source": [
        "ypred_closed1 = model.predict(img_closed1)\n",
        "ypred_closed2 = model.predict(img_closed2)\n",
        "ypred_open1 = model.predict(img_open1)\n",
        "ypred_open2 = model.predict(img_open2)"
      ],
      "metadata": {
        "colab": {
          "base_uri": "https://localhost:8080/"
        },
        "id": "gcYmCIGSX-mm",
        "outputId": "02bac690-26cf-4ec0-cb4a-f66fb0a2dc94"
      },
      "execution_count": 58,
      "outputs": [
        {
          "output_type": "stream",
          "name": "stdout",
          "text": [
            "1/1 [==============================] - 0s 100ms/step\n",
            "1/1 [==============================] - 0s 53ms/step\n",
            "1/1 [==============================] - 0s 54ms/step\n",
            "1/1 [==============================] - 0s 44ms/step\n"
          ]
        }
      ]
    },
    {
      "cell_type": "code",
      "source": [
        "figure = plt.figure(figsize=(2, 2))\n",
        "img_closed1 = np.squeeze(img_closed1, axis=0)\n",
        "plt.imshow(img_closed1)\n",
        "plt.axis('off')\n",
        "plt.title(f'Prediction by the model: {labels[np.argmax(ypred_closed1[0], axis=0)]}')\n",
        "plt.show()"
      ],
      "metadata": {
        "colab": {
          "base_uri": "https://localhost:8080/",
          "height": 156
        },
        "id": "a1yy9SkBX_wV",
        "outputId": "f08af5e3-cd45-4ad5-c2d1-0939e6154089"
      },
      "execution_count": 59,
      "outputs": [
        {
          "output_type": "display_data",
          "data": {
            "text/plain": [
              "<Figure size 144x144 with 1 Axes>"
            ],
            "image/png": "[encoded data removed]"
          },
          "metadata": {
            "needs_background": "light"
          }
        }
      ]
    },
    {
      "cell_type": "code",
      "source": [
        "figure = plt.figure(figsize=(2, 2))\n",
        "img_closed2 = np.squeeze(img_closed2, axis=0)\n",
        "plt.imshow(img_closed2)\n",
        "plt.axis('off')\n",
        "plt.title(f'Prediction by the model: {labels[np.argmax(ypred_closed2[0], axis=0)]}')\n",
        "plt.show()"
      ],
      "metadata": {
        "colab": {
          "base_uri": "https://localhost:8080/",
          "height": 156
        },
        "id": "Y6ZJbccPYBER",
        "outputId": "301b53da-9f26-4b01-8786-f1e27d79be21"
      },
      "execution_count": 60,
      "outputs": [
        {
          "output_type": "display_data",
          "data": {
            "text/plain": [
              "<Figure size 144x144 with 1 Axes>"
            ],
            "image/png": "[encoded data removed]"
          },
          "metadata": {
            "needs_background": "light"
          }
        }
      ]
    },
    {
      "cell_type": "code",
      "source": [
        "figure = plt.figure(figsize=(2, 2))\n",
        "img_open1 = np.squeeze(img_open1, axis=0)\n",
        "plt.imshow(img_open1)\n",
        "plt.axis('off')\n",
        "plt.title(f'Prediction by the model: {labels[np.argmax(ypred_open1[0], axis=0)]}')\n",
        "plt.show()"
      ],
      "metadata": {
        "colab": {
          "base_uri": "https://localhost:8080/",
          "height": 156
        },
        "id": "HzJMdZ5xYCaK",
        "outputId": "cd78803f-93bd-4b44-8d98-acb6e568c46b"
      },
      "execution_count": 61,
      "outputs": [
        {
          "output_type": "display_data",
          "data": {
            "text/plain": [
              "<Figure size 144x144 with 1 Axes>"
            ],
            "image/png": "[encoded data removed]"
          },
          "metadata": {
            "needs_background": "light"
          }
        }
      ]
    },
    {
      "cell_type": "code",
      "source": [
        "figure = plt.figure(figsize=(2, 2))\n",
        "img_open2 = np.squeeze(img_open2, axis=0)\n",
        "plt.imshow(img_open2)\n",
        "plt.axis('off')\n",
        "plt.title(f'Prediction by the model: {labels[np.argmax(ypred_open2[0], axis=0)]}')\n",
        "plt.show()"
      ],
      "metadata": {
        "colab": {
          "base_uri": "https://localhost:8080/",
          "height": 156
        },
        "id": "MKs1ao8VYDeJ",
        "outputId": "df330991-b59b-41c2-af3e-c20879fbf8da"
      },
      "execution_count": 62,
      "outputs": [
        {
          "output_type": "display_data",
          "data": {
            "text/plain": [
              "<Figure size 144x144 with 1 Axes>"
            ],
            "image/png": "[encoded data removed]"
          },
          "metadata": {
            "needs_background": "light"
          }
        }
      ]
    },
    {
      "cell_type": "code",
      "source": [
        "!deepCC Driver_Drowsiness_Detection.h5"
      ],
      "metadata": {
        "id": "98M6UY2EYLNx"
      },
      "execution_count": null,
      "outputs": []
    }
  ]
}